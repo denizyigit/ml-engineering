{
 "cells": [
  {
   "cell_type": "code",
   "execution_count": 266,
   "id": "f5611b5c",
   "metadata": {},
   "outputs": [],
   "source": [
    "import pandas as pd\n",
    "import numpy as np\n",
    "import seaborn as sns\n"
   ]
  },
  {
   "cell_type": "code",
   "execution_count": 267,
   "id": "178071fc",
   "metadata": {},
   "outputs": [
    {
     "data": {
      "text/plain": [
       "Index(['laptop', 'status', 'brand', 'model', 'cpu', 'ram', 'storage',\n",
       "       'storage_type', 'gpu', 'screen', 'touch', 'final_price'],\n",
       "      dtype='object')"
      ]
     },
     "execution_count": 267,
     "metadata": {},
     "output_type": "execute_result"
    }
   ],
   "source": [
    "df = pd.read_csv(\"laptops.csv\")\n",
    "df.columns = df.columns.str.lower().str.replace(\" \" , \"_\")\n",
    "df.columns"
   ]
  },
  {
   "cell_type": "code",
   "execution_count": 268,
   "id": "7553ab28",
   "metadata": {},
   "outputs": [],
   "source": [
    "columns = [\"ram\", \"storage\" , \"screen\" , \"final_price\"]"
   ]
  },
  {
   "cell_type": "code",
   "execution_count": 269,
   "id": "225fe2d2",
   "metadata": {},
   "outputs": [
    {
     "data": {
      "text/plain": [
       "<Axes: xlabel='final_price', ylabel='Count'>"
      ]
     },
     "execution_count": 269,
     "metadata": {},
     "output_type": "execute_result"
    },
    {
     "data": {
      "image/png": "[encoded data removed]",
      "text/plain": [
       "<Figure size 640x480 with 1 Axes>"
      ]
     },
     "metadata": {},
     "output_type": "display_data"
    }
   ],
   "source": [
    "sns.histplot(df[\"final_price\"]) "
   ]
  },
  {
   "cell_type": "code",
   "execution_count": 270,
   "id": "cf9a8a4f",
   "metadata": {},
   "outputs": [
    {
     "data": {
      "text/plain": [
       "ram            0\n",
       "storage        0\n",
       "screen         4\n",
       "final_price    0\n",
       "dtype: int64"
      ]
     },
     "execution_count": 270,
     "metadata": {},
     "output_type": "execute_result"
    }
   ],
   "source": [
    "df = df[columns]\n",
    "df.isnull().sum()"
   ]
  },
  {
   "cell_type": "code",
   "execution_count": 271,
   "id": "de1a437f",
   "metadata": {},
   "outputs": [
    {
     "data": {
      "text/plain": [
       "np.float64(16.0)"
      ]
     },
     "execution_count": 271,
     "metadata": {},
     "output_type": "execute_result"
    }
   ],
   "source": [
    "df[\"ram\"].median()"
   ]
  },
  {
   "cell_type": "code",
   "execution_count": 272,
   "id": "66912ed8",
   "metadata": {},
   "outputs": [],
   "source": [
    "\n",
    "n = len(df)\n",
    "idx = np.arange(n)\n",
    "np.random.seed(42)\n",
    "np.random.shuffle(idx)\n",
    "\n",
    "n_train = int (n * 0.6)\n",
    "n_val =int(n * 0.2) \n",
    "n_test = n - (n_train + n_val)"
   ]
  },
  {
   "cell_type": "code",
   "execution_count": 273,
   "id": "3c5d3f71",
   "metadata": {},
   "outputs": [],
   "source": [
    "df_train = df.iloc[idx[:n_train]]\n",
    "df_val = df.iloc[idx[n_train:n_train+n_val ]]\n",
    "df_test = df.iloc[idx[n_train+n_val: ]]"
   ]
  },
  {
   "cell_type": "code",
   "execution_count": 274,
   "id": "6c4a6137",
   "metadata": {},
   "outputs": [],
   "source": [
    "y_train = df_train.final_price.values\n",
    "y_val = df_val.final_price.values\n",
    "y_test = df_test.final_price.values\n",
    "\n",
    "del df_train['final_price']\n",
    "del df_val['final_price']\n",
    "del df_test['final_price']"
   ]
  },
  {
   "cell_type": "code",
   "execution_count": 275,
   "id": "a05634c4",
   "metadata": {},
   "outputs": [],
   "source": [
    "def train_linear_regression(X, y):\n",
    "    ones = np.ones(X.shape[0])\n",
    "    X = np.column_stack([ones, X])\n",
    "\n",
    "    XTX = X.T.dot(X)\n",
    "    XTX_inv = np.linalg.inv(XTX)\n",
    "    w = XTX_inv.dot(X.T).dot(y)\n",
    "    \n",
    "    return w[0], w[1:]\n",
    "\n",
    "def prepare_X(df, fillna_value):\n",
    "    df = df.fillna(fillna_value)\n",
    "    X = df.values\n",
    "    return X\n",
    "\n",
    "def rmse(y, y_pred):\n",
    "    error = y_pred - y\n",
    "    mse = (error ** 2).mean()\n",
    "    return np.sqrt(mse)\n",
    "\n",
    "\n",
    "def train_linear_regression_regularized(X, y,r):\n",
    "    ones = np.ones(X.shape[0])\n",
    "    X = np.column_stack([ones, X])\n",
    "\n",
    "    XTX = X.T.dot(X)\n",
    "    XTX = XTX + r* np.eye(XTX.shape[0])\n",
    "    XTX_inv = np.linalg.inv(XTX)\n",
    "    w = XTX_inv.dot(X.T).dot(y)\n",
    "    \n",
    "    return w[0], w[1:]"
   ]
  },
  {
   "cell_type": "code",
   "execution_count": 276,
   "id": "4a6dd8ee",
   "metadata": {},
   "outputs": [
    {
     "data": {
      "text/plain": [
       "np.float64(597.3635593619641)"
      ]
     },
     "execution_count": 276,
     "metadata": {},
     "output_type": "execute_result"
    }
   ],
   "source": [
    "mean = df_train.ram.mean()\n",
    "X_train = prepare_X(df_train, fillna_value=0)\n",
    "w0,w = train_linear_regression(X_train,y_train)\n",
    "\n",
    "X_val = prepare_X(df_val,0)\n",
    "pred = X_val.dot(w) + w0\n",
    "rmse(y_val,pred)"
   ]
  },
  {
   "cell_type": "code",
   "execution_count": 277,
   "id": "90deb9b0",
   "metadata": {},
   "outputs": [
    {
     "name": "stdout",
     "output_type": "stream",
     "text": [
      "r : 0.000 --- w0 : 676.8954853016746 --- w : [ 43.70681555   0.86506867 -36.10399833] --- rmse : 597.36\n",
      "r : 0.010 --- w0 : 676.2736817217958 --- w : [ 43.70642381   0.86504106 -36.06174277] --- rmse : 597.36\n",
      "r : 0.100 --- w0 : 670.7284836325854 --- w : [ 43.7029297    0.8647949  -35.68491076] --- rmse : 597.35\n",
      "r : 1.000 --- w0 : 619.9030834118272 --- w : [ 43.67085331   0.8625399  -32.23099446] --- rmse : 597.21\n",
      "r : 10.000 --- w0 : 352.79713367719523 --- w : [ 43.49940147   0.85075755 -14.07928221] --- rmse : 597.06\n",
      "r : 100.000 --- w0 : 66.92071440185458 --- w : [43.26181083  0.83943545  5.35037812] --- rmse : 597.90\n"
     ]
    }
   ],
   "source": [
    "for r in [0, 0.01, 0.1, 1, 10, 100]:\n",
    "\n",
    "    mean = 0\n",
    "    X_train = prepare_X(df_train, fillna_value=mean)\n",
    "    w0,w = train_linear_regression_regularized(X_train,y_train,r)\n",
    "\n",
    "    X_val = prepare_X(df_val,0)\n",
    "    pred = X_val.dot(w) + w0\n",
    "    error = rmse(y_val,pred)\n",
    "    print(f\"r : {r:.3f} --- w0 : {w0} --- w : {w} --- rmse : {error:.2f}\")"
   ]
  },
  {
   "cell_type": "code",
   "execution_count": 278,
   "id": "113ff922",
   "metadata": {},
   "outputs": [
    {
     "name": "stdout",
     "output_type": "stream",
     "text": [
      "r : 0.000 --- w0 : 547.5696230196595 --- w : [ 41.53483597   0.95193407 -28.81992785] --- rmse : 565.45\n",
      "r : 1.000 --- w0 : 594.4197428014472 --- w : [ 43.90073635   0.90174656 -32.52410764] --- rmse : 636.80\n",
      "r : 2.000 --- w0 : 649.4685454780993 --- w : [ 39.15406487   0.94332588 -33.11141159] --- rmse : 588.96\n",
      "r : 3.000 --- w0 : 571.9459040123786 --- w : [ 47.46271336   0.78556786 -30.72351238] --- rmse : 597.81\n",
      "r : 4.000 --- w0 : 629.3882030655427 --- w : [ 40.19918209   1.03444197 -36.2341651 ] --- rmse : 571.96\n",
      "r : 5.000 --- w0 : 580.7647373339839 --- w : [ 47.97475317   0.85917953 -33.00392009] --- rmse : 573.24\n",
      "r : 6.000 --- w0 : 783.7683689923456 --- w : [ 37.597798     1.08609144 -45.90286683] --- rmse : 647.34\n",
      "r : 7.000 --- w0 : 376.435860063457 --- w : [ 43.30552477   0.83803389 -15.0276907 ] --- rmse : 550.44\n",
      "r : 8.000 --- w0 : 572.8852361208681 --- w : [ 39.5651649    0.94142674 -29.84965091] --- rmse : 587.33\n",
      "r : 9.000 --- w0 : 663.3792792621913 --- w : [ 38.0093441    0.90355423 -31.7002009 ] --- rmse : 576.10\n"
     ]
    },
    {
     "data": {
      "text/plain": [
       "np.float64(29.176491258298974)"
      ]
     },
     "execution_count": 278,
     "metadata": {},
     "output_type": "execute_result"
    }
   ],
   "source": [
    "rmses = []\n",
    "for r in [0, 1, 2, 3, 4, 5, 6, 7, 8, 9]:\n",
    "    \n",
    "    n = len(df)\n",
    "    idx = np.arange(n)\n",
    "    np.random.seed(r)\n",
    "    np.random.shuffle(idx)\n",
    "\n",
    "    n_train = int (n * 0.6)\n",
    "    n_val =int(n * 0.2) \n",
    "    n_test = n - (n_train + n_val)\n",
    "   \n",
    "    df_train = df.iloc[idx[:n_train]]\n",
    "    df_val = df.iloc[idx[n_train:n_train+n_val ]]\n",
    "    df_test = df.iloc[idx[n_train+n_val: ]]\n",
    "\n",
    "    y_train = df_train.final_price.values\n",
    "    y_val = df_val.final_price.values\n",
    "    y_test = df_test.final_price.values\n",
    "\n",
    "    del df_train['final_price']\n",
    "    del df_val['final_price']\n",
    "    del df_test['final_price']\n",
    "    \n",
    "\n",
    "    mean = 0\n",
    "    X_train = prepare_X(df_train, fillna_value=mean)\n",
    "    w0,w = train_linear_regression(X_train,y_train)\n",
    "\n",
    "    X_val = prepare_X(df_val,0)\n",
    "    pred = X_val.dot(w) + w0\n",
    "    error = rmse(y_val,pred)\n",
    "    rmses.append(error)\n",
    "    print(f\"r : {r:.3f} --- w0 : {w0} --- w : {w} --- rmse : {error:.2f}\")\n",
    "\n",
    "np.std(rmses)"
   ]
  },
  {
   "cell_type": "code",
   "execution_count": 279,
   "id": "38318dfe",
   "metadata": {},
   "outputs": [
    {
     "name": "stdout",
     "output_type": "stream",
     "text": [
      "608.609982204966\n"
     ]
    }
   ],
   "source": [
    "rmses = []\n",
    "r = 9\n",
    "n = len(df)\n",
    "idx = np.arange(n)\n",
    "np.random.seed(r)\n",
    "np.random.shuffle(idx)\n",
    "\n",
    "n_train = int (n * 0.6)\n",
    "n_val =int(n * 0.2) \n",
    "n_test = n - (n_train + n_val)\n",
    "\n",
    "df_train = df.iloc[idx[:n_train]]\n",
    "df_val = df.iloc[idx[n_train:n_train+n_val ]]\n",
    "df_test = df.iloc[idx[n_train+n_val: ]]\n",
    "\n",
    "y_train = df_train.final_price.values\n",
    "y_val = df_val.final_price.values\n",
    "y_test = df_test.final_price.values\n",
    "\n",
    "del df_train['final_price']\n",
    "del df_val['final_price']\n",
    "del df_test['final_price']\n",
    "\n",
    "\n",
    "df_full_train = pd.concat([df_train, df_val])\n",
    "\n",
    "\n",
    "X_full_train = prepare_X(df_full_train, fillna_value=0)\n",
    "y_full_train = np.concatenate([y_train, y_val])\n",
    "w_0, w = train_linear_regression_regularized(X_full_train, y_full_train, r=0.001)\n",
    "\n",
    "X_test = prepare_X(df_test, fillna_value=0)\n",
    "y_pred = w_0 + X_test.dot(w)\n",
    "\n",
    "result = rmse(y_test, y_pred)\n",
    "print(result)"
   ]
  },
  {
   "cell_type": "code",
   "execution_count": null,
   "id": "afb44962",
   "metadata": {},
   "outputs": [],
   "source": []
  }
 ],
 "metadata": {
  "kernelspec": {
   "display_name": "ml",
   "language": "python",
   "name": "python3"
  },
  "language_info": {
   "codemirror_mode": {
    "name": "ipython",
    "version": 3
   },
   "file_extension": ".py",
   "mimetype": "text/x-python",
   "name": "python",
   "nbconvert_exporter": "python",
   "pygments_lexer": "ipython3",
   "version": "3.11.11"
  }
 },
 "nbformat": 4,
 "nbformat_minor": 5
}
